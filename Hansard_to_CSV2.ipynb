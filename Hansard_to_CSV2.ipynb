{
 "metadata": {
  "language_info": {
   "codemirror_mode": {
    "name": "ipython",
    "version": 3
   },
   "file_extension": ".py",
   "mimetype": "text/x-python",
   "name": "python",
   "nbconvert_exporter": "python",
   "pygments_lexer": "ipython3",
   "version": "3.8.5-final"
  },
  "orig_nbformat": 2,
  "kernelspec": {
   "name": "python3",
   "display_name": "Python 3.8.5 64-bit ('base': conda)",
   "metadata": {
    "interpreter": {
     "hash": "918678bd1f45f82304edc93a653aba01640b34ac9e09e2ef2bcfd4858dea0132"
    }
   }
  }
 },
 "nbformat": 4,
 "nbformat_minor": 2,
 "cells": [
  {
   "cell_type": "code",
   "execution_count": 1,
   "metadata": {},
   "outputs": [],
   "source": [
    "import xml.etree.ElementTree as ET\n",
    "import xmltodict\n",
    "import pandas as pd\n",
    "import pprint"
   ]
  },
  {
   "cell_type": "code",
   "execution_count": 2,
   "metadata": {},
   "outputs": [],
   "source": [
    "tree = ET.parse('/Users/fiannualamorgan/Documents/GitHub/Poetry_and_Hansard/poetry_hansard_output/hofreps/1901/19011211_reps_1_7.xml')\n",
    "root = tree.getroot()"
   ]
  },
  {
   "cell_type": "code",
   "execution_count": 3,
   "metadata": {},
   "outputs": [],
   "source": [
    "cols = [\"date\",\"parliament.no\",\"session.no\",\"period.no\",\"chamber\",\"page.no\",\"proof\",\"day.start\",\"name\",\"name.id\",\"title\",\"type\",\"electorate\",\"party\",\"role\",\"in.gov\",\"first.speech\",\"para\"] \n",
    "vals=[]\n",
    "ind=0\n",
    "for i in cols:\n",
    "    vals.append('')\n",
    "    ind=ind+1\n",
    "stop=\"para\"\n",
    "rows = [] "
   ]
  },
  {
   "cell_type": "code",
   "execution_count": 4,
   "metadata": {},
   "outputs": [],
   "source": [
    "def xmlDig(thisElement,rows,cols,vals,stop): \n",
    "    stopMatchFound=False\n",
    "\n",
    "    for i in thisElement:\n",
    "        valMatchFound=False\n",
    "        ind=0\n",
    "        for j in cols: \n",
    "            if i.tag==j:\n",
    "                valMatchFound=True\n",
    "                if i.tag=='name':\n",
    "                    if i.attrib['role']=='metadata':\n",
    "                        vals[ind]=i.text\n",
    "                elif i.tag==stop:\n",
    "                    vals[ind]=i.text.replace('=','')\n",
    "                    stopMatchFound=True\n",
    "                    rows.append(list(vals))\n",
    "                    break\n",
    "                else:\n",
    "                    vals[ind]=i.text\n",
    "            ind=ind+1\n",
    "        if not valMatchFound:\n",
    "            xmlDig(i,rows,cols,vals,stop)\n",
    "    return rows"
   ]
  },
  {
   "cell_type": "code",
   "execution_count": 5,
   "metadata": {},
   "outputs": [],
   "source": [
    "rows=xmlDig(root,rows,cols,vals,stop)"
   ]
  },
  {
   "cell_type": "code",
   "execution_count": 6,
   "metadata": {},
   "outputs": [],
   "source": [
    "df = pd.DataFrame(rows, columns=cols) "
   ]
  },
  {
   "source": [
    "something will have to go here, to:\n",
    "1. itterate through all XMLs! but make sure is not re-writing each one\n",
    "2. elif *poem*(para) print:\n",
    "    else=False"
   ],
   "cell_type": "markdown",
   "metadata": {}
  },
  {
   "cell_type": "code",
   "execution_count": 7,
   "metadata": {},
   "outputs": [],
   "source": [
    "df.to_csv(\"output.csv\") "
   ]
  },
  {
   "cell_type": "code",
   "execution_count": null,
   "metadata": {},
   "outputs": [],
   "source": []
  }
 ]
}