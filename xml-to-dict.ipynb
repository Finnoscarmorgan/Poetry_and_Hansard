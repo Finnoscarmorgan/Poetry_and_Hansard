{
 "metadata": {
  "language_info": {
   "codemirror_mode": {
    "name": "ipython",
    "version": 3
   },
   "file_extension": ".py",
   "mimetype": "text/x-python",
   "name": "python",
   "nbconvert_exporter": "python",
   "pygments_lexer": "ipython3",
   "version": "3.8.5-final"
  },
  "orig_nbformat": 2,
  "kernelspec": {
   "name": "python3",
   "display_name": "Python 3.8.5 64-bit ('base': conda)",
   "metadata": {
    "interpreter": {
     "hash": "918678bd1f45f82304edc93a653aba01640b34ac9e09e2ef2bcfd4858dea0132"
    }
   }
  }
 },
 "nbformat": 4,
 "nbformat_minor": 2,
 "cells": [
  {
   "cell_type": "code",
   "execution_count": 6,
   "metadata": {},
   "outputs": [],
   "source": [
    "import xmltodict"
   ]
  },
  {
   "cell_type": "code",
   "execution_count": 7,
   "metadata": {},
   "outputs": [],
   "source": [
    "with open('/Users/fiannualamorgan/Documents/GitHub/Poetry_and_Hansard/test_file.xml') as fd:\n",
    "    doc = xmltodict.parse(fd.read())"
   ]
  },
  {
   "cell_type": "code",
   "execution_count": 8,
   "metadata": {},
   "outputs": [
    {
     "output_type": "stream",
     "name": "stdout",
     "text": [
      "OrderedDict([('debate', OrderedDict([('debateinfo', OrderedDict([('title', 'THE PUBLIC ACCOUNTS'), ('page.no', '3390'), ('type', 'miscellaneous')])), ('speech', [OrderedDict([('talk.start', OrderedDict([('talker', OrderedDict([('page.no', '3390'), ('time.stamp', None), ('name.id', 'L2G'), ('electorate', 'WENTWORTH, NEW SOUTH WALES'), ('party', None), ('role', None), ('in.gov', '0'), ('first.speech', '0'), ('name', [OrderedDict([('@role', 'metadata'), ('#text', 'MCMILLAN, William')]), OrderedDict([('@role', 'display'), ('#text', 'Sir WILLIAM McMILLAN')])])])), ('para', OrderedDict([('inline', OrderedDict([('@font-style', 'italic'), ('#text', 'Government Gazettes')])), ('#text', \"- I would like to ask the Treasurer if he is aware that by this time all the  in the different States' showing the public accounts for the last twelve months have been published. I might suggest that it would be . a good thing if the Treasurer could give us a synopsis of these accounts, including the Customs revenue and expenditure of the Commonwealth for the six months, which would supplement the Customs revenue and expenditure of the States for the first six months. This information would give us statistics which would be very useful to us at the present stage.\")]))]))]), OrderedDict([('talk.start', OrderedDict([('talker', OrderedDict([('page.no', '3390'), ('time.stamp', None), ('name.id', 'KWT'), ('electorate', 'BALACLAVA, VICTORIA'), ('party', 'Protectionist'), ('role', 'Treasurer'), ('in.gov', '1'), ('first.speech', '0'), ('name', [OrderedDict([('@role', 'metadata'), ('#text', 'TURNER, George')]), OrderedDict([('@role', 'display'), ('#text', 'Sir GEORGE TURNER')])])])), ('para', '- I have sent to the various States with a view to obtaining official returns as to the receipts and expenditure, for use when I am making my financial statement. I will get the fullest information I possibly can for honorable members on all these points.')]))])])]))])\n"
     ]
    }
   ],
   "source": [
    "print(doc)"
   ]
  },
  {
   "cell_type": "code",
   "execution_count": 16,
   "metadata": {},
   "outputs": [
    {
     "output_type": "stream",
     "name": "stdout",
     "text": [
      "OrderedDict([('debateinfo', OrderedDict([('title', 'THE PUBLIC ACCOUNTS'), ('page.no', '3390'), ('type', 'miscellaneous')])), ('speech', [OrderedDict([('talk.start', OrderedDict([('talker', OrderedDict([('page.no', '3390'), ('time.stamp', None), ('name.id', 'L2G'), ('electorate', 'WENTWORTH, NEW SOUTH WALES'), ('party', None), ('role', None), ('in.gov', '0'), ('first.speech', '0'), ('name', [OrderedDict([('@role', 'metadata'), ('#text', 'MCMILLAN, William')]), OrderedDict([('@role', 'display'), ('#text', 'Sir WILLIAM McMILLAN')])])])), ('para', OrderedDict([('inline', OrderedDict([('@font-style', 'italic'), ('#text', 'Government Gazettes')])), ('#text', \"- I would like to ask the Treasurer if he is aware that by this time all the  in the different States' showing the public accounts for the last twelve months have been published. I might suggest that it would be . a good thing if the Treasurer could give us a synopsis of these accounts, including the Customs revenue and expenditure of the Commonwealth for the six months, which would supplement the Customs revenue and expenditure of the States for the first six months. This information would give us statistics which would be very useful to us at the present stage.\")]))]))]), OrderedDict([('talk.start', OrderedDict([('talker', OrderedDict([('page.no', '3390'), ('time.stamp', None), ('name.id', 'KWT'), ('electorate', 'BALACLAVA, VICTORIA'), ('party', 'Protectionist'), ('role', 'Treasurer'), ('in.gov', '1'), ('first.speech', '0'), ('name', [OrderedDict([('@role', 'metadata'), ('#text', 'TURNER, George')]), OrderedDict([('@role', 'display'), ('#text', 'Sir GEORGE TURNER')])])])), ('para', '- I have sent to the various States with a view to obtaining official returns as to the receipts and expenditure, for use when I am making my financial statement. I will get the fullest information I possibly can for honorable members on all these points.')]))])])])\n"
     ]
    }
   ],
   "source": [
    "print(doc['debate'])"
   ]
  },
  {
   "cell_type": "code",
   "execution_count": 21,
   "metadata": {},
   "outputs": [
    {
     "output_type": "stream",
     "name": "stdout",
     "text": [
      "THE PUBLIC ACCOUNTS\n"
     ]
    }
   ],
   "source": [
    "print(doc['debate']['debateinfo']['title'])"
   ]
  },
  {
   "cell_type": "code",
   "execution_count": null,
   "metadata": {},
   "outputs": [],
   "source": []
  }
 ]
}