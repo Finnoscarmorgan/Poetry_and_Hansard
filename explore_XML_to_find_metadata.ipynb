{
 "metadata": {
  "language_info": {
   "codemirror_mode": {
    "name": "ipython",
    "version": 3
   },
   "file_extension": ".py",
   "mimetype": "text/x-python",
   "name": "python",
   "nbconvert_exporter": "python",
   "pygments_lexer": "ipython3",
   "version": "3.8.5-final"
  },
  "orig_nbformat": 2,
  "kernelspec": {
   "name": "python3",
   "display_name": "Python 3.8.5 64-bit ('base': conda)",
   "metadata": {
    "interpreter": {
     "hash": "918678bd1f45f82304edc93a653aba01640b34ac9e09e2ef2bcfd4858dea0132"
    }
   }
  }
 },
 "nbformat": 4,
 "nbformat_minor": 2,
 "cells": [
  {
   "source": [
    "import pandas as pd \n",
    "import xml.etree.ElementTree as etree"
   ],
   "cell_type": "code",
   "metadata": {},
   "execution_count": 1,
   "outputs": []
  },
  {
   "cell_type": "code",
   "execution_count": 2,
   "metadata": {},
   "outputs": [],
   "source": [
    "# find the root of the xml file, this is 'debate'\n",
    "tree = etree.parse('/Users/fiannualamorgan/Documents/GitHub/Poetry_and_Hansard/test_file.xml')\n",
    "root = tree.getroot()\n",
    "\n"
   ]
  },
  {
   "cell_type": "code",
   "execution_count": 12,
   "metadata": {},
   "outputs": [],
   "source": [
    "#define colums for dataframe\n",
    "columns = ['debate', 'page number', 'electorate', 'party'. 'excerpt']\n",
    "datatframe = pd.DataFrame(columns = columns)"
   ]
  },
  {
   "cell_type": "code",
   "execution_count": 16,
   "metadata": {},
   "outputs": [],
   "source": [
    "for node in root: \n",
    "    debate = node.attrib.get(\"title\")\n",
    "    page = node.find(\"page.no\")\n",
    "    electorate = node.find(\"electorate\")\n",
    "    datatframe = datatframe.append(pd.Series([debate, page, electorate], index = columns), ignore_index = True)"
   ]
  },
  {
   "cell_type": "code",
   "execution_count": 17,
   "metadata": {},
   "outputs": [
    {
     "output_type": "stream",
     "name": "stdout",
     "text": [
      "  debate page number electorate\n0   None        3390       None\n1   None          []       None\n2   None        None       None\n3   None        None       None\n4   None          []       None\n5   None        None       None\n6   None        None       None\n"
     ]
    }
   ],
   "source": [
    "print(datatframe)"
   ]
  },
  {
   "cell_type": "code",
   "execution_count": null,
   "metadata": {},
   "outputs": [],
   "source": [
    "data=[]\n",
    "for i in range(len(root.getchildren())):\n",
    "    data.append([child.text for child in root.getchildren()[i].getchildren()])\n",
    "\n",
    "df = pd.DataFrame(data).T\n",
    "df.columns = ['bathrooms', 'price', 'property_id']"
   ]
  }
 ]
}