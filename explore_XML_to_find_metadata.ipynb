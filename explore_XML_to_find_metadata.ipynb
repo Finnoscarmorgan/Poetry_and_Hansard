{
 "metadata": {
  "language_info": {
   "codemirror_mode": {
    "name": "ipython",
    "version": 3
   },
   "file_extension": ".py",
   "mimetype": "text/x-python",
   "name": "python",
   "nbconvert_exporter": "python",
   "pygments_lexer": "ipython3",
   "version": "3.8.5-final"
  },
  "orig_nbformat": 2,
  "kernelspec": {
   "name": "python3",
   "display_name": "Python 3.8.5 64-bit ('base': conda)",
   "metadata": {
    "interpreter": {
     "hash": "918678bd1f45f82304edc93a653aba01640b34ac9e09e2ef2bcfd4858dea0132"
    }
   }
  }
 },
 "nbformat": 4,
 "nbformat_minor": 2,
 "cells": [
  {
   "source": [
    "import pandas as pd\n",
    "import xml_to_df\n"
   ],
   "cell_type": "code",
   "metadata": {},
   "execution_count": 57,
   "outputs": []
  },
  {
   "cell_type": "code",
   "execution_count": 58,
   "metadata": {},
   "outputs": [
    {
     "output_type": "execute_result",
     "data": {
      "text/plain": [
       "      debateinfo_title debateinfo_page.no debateinfo_type  \\\n",
       "0  THE PUBLIC ACCOUNTS               3390   miscellaneous   \n",
       "1                  NaN                NaN             NaN   \n",
       "2                  NaN                NaN             NaN   \n",
       "\n",
       "  speech_talk.start_talker_page.no speech_talk.start_talker_name.id  \\\n",
       "0                              NaN                              NaN   \n",
       "1                             3390                              L2G   \n",
       "2                             3390                              KWT   \n",
       "\n",
       "  speech_talk.start_talker_electorate speech_talk.start_talker_in.gov  \\\n",
       "0                                 NaN                             NaN   \n",
       "1          WENTWORTH, NEW SOUTH WALES                               0   \n",
       "2                 BALACLAVA, VICTORIA                               1   \n",
       "\n",
       "  speech_talk.start_talker_first.speech speech_talk.start_talker_name_role  \\\n",
       "0                                   NaN                                NaN   \n",
       "1                                     0                [metadata, display]   \n",
       "2                                     0                [metadata, display]   \n",
       "\n",
       "               speech_talk.start_talker_name  \\\n",
       "0                                        NaN   \n",
       "1  [MCMILLAN, William, Sir WILLIAM McMILLAN]   \n",
       "2        [TURNER, George, Sir GEORGE TURNER]   \n",
       "\n",
       "  speech_talk.start_para_inline_font-style speech_talk.start_para_inline  \\\n",
       "0                                      NaN                           NaN   \n",
       "1                                   italic           Government Gazettes   \n",
       "2                                      NaN                           NaN   \n",
       "\n",
       "  speech_talk.start_talker_party speech_talk.start_talker_role  \\\n",
       "0                            NaN                           NaN   \n",
       "1                            NaN                           NaN   \n",
       "2                  Protectionist                     Treasurer   \n",
       "\n",
       "                              speech_talk.start_para  \n",
       "0                                                NaN  \n",
       "1                                                NaN  \n",
       "2  - I have sent to the various States with a vie...  "
      ],
      "text/html": "<div>\n<style scoped>\n    .dataframe tbody tr th:only-of-type {\n        vertical-align: middle;\n    }\n\n    .dataframe tbody tr th {\n        vertical-align: top;\n    }\n\n    .dataframe thead th {\n        text-align: right;\n    }\n</style>\n<table border=\"1\" class=\"dataframe\">\n  <thead>\n    <tr style=\"text-align: right;\">\n      <th></th>\n      <th>debateinfo_title</th>\n      <th>debateinfo_page.no</th>\n      <th>debateinfo_type</th>\n      <th>speech_talk.start_talker_page.no</th>\n      <th>speech_talk.start_talker_name.id</th>\n      <th>speech_talk.start_talker_electorate</th>\n      <th>speech_talk.start_talker_in.gov</th>\n      <th>speech_talk.start_talker_first.speech</th>\n      <th>speech_talk.start_talker_name_role</th>\n      <th>speech_talk.start_talker_name</th>\n      <th>speech_talk.start_para_inline_font-style</th>\n      <th>speech_talk.start_para_inline</th>\n      <th>speech_talk.start_talker_party</th>\n      <th>speech_talk.start_talker_role</th>\n      <th>speech_talk.start_para</th>\n    </tr>\n  </thead>\n  <tbody>\n    <tr>\n      <th>0</th>\n      <td>THE PUBLIC ACCOUNTS</td>\n      <td>3390</td>\n      <td>miscellaneous</td>\n      <td>NaN</td>\n      <td>NaN</td>\n      <td>NaN</td>\n      <td>NaN</td>\n      <td>NaN</td>\n      <td>NaN</td>\n      <td>NaN</td>\n      <td>NaN</td>\n      <td>NaN</td>\n      <td>NaN</td>\n      <td>NaN</td>\n      <td>NaN</td>\n    </tr>\n    <tr>\n      <th>1</th>\n      <td>NaN</td>\n      <td>NaN</td>\n      <td>NaN</td>\n      <td>3390</td>\n      <td>L2G</td>\n      <td>WENTWORTH, NEW SOUTH WALES</td>\n      <td>0</td>\n      <td>0</td>\n      <td>[metadata, display]</td>\n      <td>[MCMILLAN, William, Sir WILLIAM McMILLAN]</td>\n      <td>italic</td>\n      <td>Government Gazettes</td>\n      <td>NaN</td>\n      <td>NaN</td>\n      <td>NaN</td>\n    </tr>\n    <tr>\n      <th>2</th>\n      <td>NaN</td>\n      <td>NaN</td>\n      <td>NaN</td>\n      <td>3390</td>\n      <td>KWT</td>\n      <td>BALACLAVA, VICTORIA</td>\n      <td>1</td>\n      <td>0</td>\n      <td>[metadata, display]</td>\n      <td>[TURNER, George, Sir GEORGE TURNER]</td>\n      <td>NaN</td>\n      <td>NaN</td>\n      <td>Protectionist</td>\n      <td>Treasurer</td>\n      <td>- I have sent to the various States with a vie...</td>\n    </tr>\n  </tbody>\n</table>\n</div>"
     },
     "metadata": {},
     "execution_count": 58
    }
   ],
   "source": [
    "df = xml_to_df.convert_xml_to_df('/Users/fiannualamorgan/Documents/GitHub/Poetry_and_Hansard/test_file.xml')\n",
    "df.head()"
   ]
  }
 ]
}