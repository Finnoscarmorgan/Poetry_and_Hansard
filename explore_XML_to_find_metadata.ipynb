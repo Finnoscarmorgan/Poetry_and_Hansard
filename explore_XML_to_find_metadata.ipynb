{
 "metadata": {
  "language_info": {
   "codemirror_mode": {
    "name": "ipython",
    "version": 3
   },
   "file_extension": ".py",
   "mimetype": "text/x-python",
   "name": "python",
   "nbconvert_exporter": "python",
   "pygments_lexer": "ipython3",
   "version": "3.8.5-final"
  },
  "orig_nbformat": 2,
  "kernelspec": {
   "name": "python3",
   "display_name": "Python 3.8.5 64-bit ('base': conda)",
   "metadata": {
    "interpreter": {
     "hash": "918678bd1f45f82304edc93a653aba01640b34ac9e09e2ef2bcfd4858dea0132"
    }
   }
  }
 },
 "nbformat": 4,
 "nbformat_minor": 2,
 "cells": [
  {
   "source": [
    "import pandas as pd\n",
    "import xml_to_df\n",
    "import xmltodict\n"
   ],
   "cell_type": "code",
   "metadata": {},
   "execution_count": 62,
   "outputs": []
  },
  {
   "cell_type": "code",
   "execution_count": 63,
   "metadata": {},
   "outputs": [],
   "source": [
    "with open('/Users/fiannualamorgan/Documents/GitHub/Poetry_and_Hansard/test_file.xml') as fd:\n",
    "    doc = xmltodict.parse(fd.read())"
   ]
  },
  {
   "cell_type": "code",
   "execution_count": 64,
   "metadata": {},
   "outputs": [
    {
     "output_type": "stream",
     "name": "stdout",
     "text": [
      "OrderedDict([('debate', OrderedDict([('debateinfo', OrderedDict([('title', 'THE PUBLIC ACCOUNTS'), ('page.no', '3390'), ('type', 'miscellaneous')])), ('speech', [OrderedDict([('talk.start', OrderedDict([('talker', OrderedDict([('page.no', '3390'), ('time.stamp', None), ('name.id', 'L2G'), ('electorate', 'WENTWORTH, NEW SOUTH WALES'), ('party', None), ('role', None), ('in.gov', '0'), ('first.speech', '0'), ('name', [OrderedDict([('@role', 'metadata'), ('#text', 'MCMILLAN, William')]), OrderedDict([('@role', 'display'), ('#text', 'Sir WILLIAM McMILLAN')])])])), ('para', OrderedDict([('inline', OrderedDict([('@font-style', 'italic'), ('#text', 'Government Gazettes')])), ('#text', \"- I would like to ask the Treasurer if he is aware that by this time all the  in the different States' showing the public accounts for the last twelve months have been published. I might suggest that it would be . a good thing if the Treasurer could give us a synopsis of these accounts, including the Customs revenue and expenditure of the Commonwealth for the six months, which would supplement the Customs revenue and expenditure of the States for the first six months. This information would give us statistics which would be very useful to us at the present stage.\")]))]))]), OrderedDict([('talk.start', OrderedDict([('talker', OrderedDict([('page.no', '3390'), ('time.stamp', None), ('name.id', 'KWT'), ('electorate', 'BALACLAVA, VICTORIA'), ('party', 'Protectionist'), ('role', 'Treasurer'), ('in.gov', '1'), ('first.speech', '0'), ('name', [OrderedDict([('@role', 'metadata'), ('#text', 'TURNER, George')]), OrderedDict([('@role', 'display'), ('#text', 'Sir GEORGE TURNER')])])])), ('para', '- I have sent to the various States with a view to obtaining official returns as to the receipts and expenditure, for use when I am making my financial statement. I will get the fullest information I possibly can for honorable members on all these points.')]))])])]))])\n"
     ]
    }
   ],
   "source": [
    "print(doc)"
   ]
  },
  {
   "cell_type": "code",
   "execution_count": 60,
   "metadata": {},
   "outputs": [
    {
     "output_type": "execute_result",
     "data": {
      "text/plain": [
       "  session.header_date session.header_parliament.no session.header_session.no  \\\n",
       "0          1901-06-12                            1                         1   \n",
       "1                 NaN                          NaN                       NaN   \n",
       "\n",
       "  session.header_period.no session.header_chamber session.header_page.no  \\\n",
       "0                        0                   REPS                    946   \n",
       "1                      NaN                    NaN                    NaN   \n",
       "\n",
       "  session.header_proof chamber.xscript_para_class        chamber.xscript_para  \\\n",
       "0                    0                        NaN                         NaN   \n",
       "1                  NaN                      block  House of Representatibes.    \n",
       "\n",
       "  chamber.xscript_business.start_day.start  ...  \\\n",
       "0                                      NaN  ...   \n",
       "1                               1901-06-12  ...   \n",
       "\n",
       "  chamber.xscript_debate_division_para_inline_font-weight  \\\n",
       "0                                                NaN        \n",
       "1                                               bold        \n",
       "\n",
       "  chamber.xscript_debate_division_para_inline  \\\n",
       "0                                         NaN   \n",
       "1                           [Mr. McCAY, 1, 1]   \n",
       "\n",
       "  chamber.xscript_debate_division_para_inline_font-style  \\\n",
       "0                                                NaN       \n",
       "1                                   [italic, italic]       \n",
       "\n",
       "  chamber.xscript_debate_continue_talk.start_talker_page.no  \\\n",
       "0                                                NaN          \n",
       "1                                               1006          \n",
       "\n",
       "  chamber.xscript_debate_continue_talk.start_talker_name.id  \\\n",
       "0                                                NaN          \n",
       "1                                              009LR          \n",
       "\n",
       "  chamber.xscript_debate_continue_talk.start_talker_in.gov  \\\n",
       "0                                                NaN         \n",
       "1                                                  0         \n",
       "\n",
       "  chamber.xscript_debate_continue_talk.start_talker_first.speech  \\\n",
       "0                                                NaN               \n",
       "1                                                  0               \n",
       "\n",
       "  chamber.xscript_debate_continue_talk.start_talker_name_role  \\\n",
       "0                                                NaN            \n",
       "1                                [metadata, display]            \n",
       "\n",
       "  chamber.xscript_debate_continue_talk.start_talker_name  \\\n",
       "0                                                NaN       \n",
       "1                        [BARTON, Edmund, Mr BARTON]       \n",
       "\n",
       "     chamber.xscript_debate_continue_talk.start_para  \n",
       "0                                                NaN  \n",
       "1  - If the House wishes to make this gentleman a...  \n",
       "\n",
       "[2 rows x 127 columns]"
      ],
      "text/html": "<div>\n<style scoped>\n    .dataframe tbody tr th:only-of-type {\n        vertical-align: middle;\n    }\n\n    .dataframe tbody tr th {\n        vertical-align: top;\n    }\n\n    .dataframe thead th {\n        text-align: right;\n    }\n</style>\n<table border=\"1\" class=\"dataframe\">\n  <thead>\n    <tr style=\"text-align: right;\">\n      <th></th>\n      <th>session.header_date</th>\n      <th>session.header_parliament.no</th>\n      <th>session.header_session.no</th>\n      <th>session.header_period.no</th>\n      <th>session.header_chamber</th>\n      <th>session.header_page.no</th>\n      <th>session.header_proof</th>\n      <th>chamber.xscript_para_class</th>\n      <th>chamber.xscript_para</th>\n      <th>chamber.xscript_business.start_day.start</th>\n      <th>...</th>\n      <th>chamber.xscript_debate_division_para_inline_font-weight</th>\n      <th>chamber.xscript_debate_division_para_inline</th>\n      <th>chamber.xscript_debate_division_para_inline_font-style</th>\n      <th>chamber.xscript_debate_continue_talk.start_talker_page.no</th>\n      <th>chamber.xscript_debate_continue_talk.start_talker_name.id</th>\n      <th>chamber.xscript_debate_continue_talk.start_talker_in.gov</th>\n      <th>chamber.xscript_debate_continue_talk.start_talker_first.speech</th>\n      <th>chamber.xscript_debate_continue_talk.start_talker_name_role</th>\n      <th>chamber.xscript_debate_continue_talk.start_talker_name</th>\n      <th>chamber.xscript_debate_continue_talk.start_para</th>\n    </tr>\n  </thead>\n  <tbody>\n    <tr>\n      <th>0</th>\n      <td>1901-06-12</td>\n      <td>1</td>\n      <td>1</td>\n      <td>0</td>\n      <td>REPS</td>\n      <td>946</td>\n      <td>0</td>\n      <td>NaN</td>\n      <td>NaN</td>\n      <td>NaN</td>\n      <td>...</td>\n      <td>NaN</td>\n      <td>NaN</td>\n      <td>NaN</td>\n      <td>NaN</td>\n      <td>NaN</td>\n      <td>NaN</td>\n      <td>NaN</td>\n      <td>NaN</td>\n      <td>NaN</td>\n      <td>NaN</td>\n    </tr>\n    <tr>\n      <th>1</th>\n      <td>NaN</td>\n      <td>NaN</td>\n      <td>NaN</td>\n      <td>NaN</td>\n      <td>NaN</td>\n      <td>NaN</td>\n      <td>NaN</td>\n      <td>block</td>\n      <td>House of Representatibes.</td>\n      <td>1901-06-12</td>\n      <td>...</td>\n      <td>bold</td>\n      <td>[Mr. McCAY, 1, 1]</td>\n      <td>[italic, italic]</td>\n      <td>1006</td>\n      <td>009LR</td>\n      <td>0</td>\n      <td>0</td>\n      <td>[metadata, display]</td>\n      <td>[BARTON, Edmund, Mr BARTON]</td>\n      <td>- If the House wishes to make this gentleman a...</td>\n    </tr>\n  </tbody>\n</table>\n<p>2 rows × 127 columns</p>\n</div>"
     },
     "metadata": {},
     "execution_count": 60
    }
   ],
   "source": [
    "df = xml_to_df.convert_xml_to_df('/Users/fiannualamorgan/Documents/GitHub/Poetry_and_Hansard/poetry_hansard_output/hofreps/1901/19010612_reps_1_1.xml')\n"
   ]
  },
  {
   "cell_type": "code",
   "execution_count": 61,
   "metadata": {},
   "outputs": [
    {
     "output_type": "execute_result",
     "data": {
      "text/plain": [
       "  session.header_date session.header_parliament.no session.header_session.no  \\\n",
       "0          1901-06-12                            1                         1   \n",
       "1                 NaN                          NaN                       NaN   \n",
       "\n",
       "  session.header_period.no session.header_chamber session.header_page.no  \\\n",
       "0                        0                   REPS                    946   \n",
       "1                      NaN                    NaN                    NaN   \n",
       "\n",
       "  session.header_proof chamber.xscript_para_class        chamber.xscript_para  \\\n",
       "0                    0                        NaN                         NaN   \n",
       "1                  NaN                      block  House of Representatibes.    \n",
       "\n",
       "  chamber.xscript_business.start_day.start  ...  \\\n",
       "0                                      NaN  ...   \n",
       "1                               1901-06-12  ...   \n",
       "\n",
       "  chamber.xscript_debate_division_para_inline_font-weight  \\\n",
       "0                                                NaN        \n",
       "1                                               bold        \n",
       "\n",
       "  chamber.xscript_debate_division_para_inline  \\\n",
       "0                                         NaN   \n",
       "1                           [Mr. McCAY, 1, 1]   \n",
       "\n",
       "  chamber.xscript_debate_division_para_inline_font-style  \\\n",
       "0                                                NaN       \n",
       "1                                   [italic, italic]       \n",
       "\n",
       "  chamber.xscript_debate_continue_talk.start_talker_page.no  \\\n",
       "0                                                NaN          \n",
       "1                                               1006          \n",
       "\n",
       "  chamber.xscript_debate_continue_talk.start_talker_name.id  \\\n",
       "0                                                NaN          \n",
       "1                                              009LR          \n",
       "\n",
       "  chamber.xscript_debate_continue_talk.start_talker_in.gov  \\\n",
       "0                                                NaN         \n",
       "1                                                  0         \n",
       "\n",
       "  chamber.xscript_debate_continue_talk.start_talker_first.speech  \\\n",
       "0                                                NaN               \n",
       "1                                                  0               \n",
       "\n",
       "  chamber.xscript_debate_continue_talk.start_talker_name_role  \\\n",
       "0                                                NaN            \n",
       "1                                [metadata, display]            \n",
       "\n",
       "  chamber.xscript_debate_continue_talk.start_talker_name  \\\n",
       "0                                                NaN       \n",
       "1                        [BARTON, Edmund, Mr BARTON]       \n",
       "\n",
       "     chamber.xscript_debate_continue_talk.start_para  \n",
       "0                                                NaN  \n",
       "1  - If the House wishes to make this gentleman a...  \n",
       "\n",
       "[2 rows x 127 columns]"
      ],
      "text/html": "<div>\n<style scoped>\n    .dataframe tbody tr th:only-of-type {\n        vertical-align: middle;\n    }\n\n    .dataframe tbody tr th {\n        vertical-align: top;\n    }\n\n    .dataframe thead th {\n        text-align: right;\n    }\n</style>\n<table border=\"1\" class=\"dataframe\">\n  <thead>\n    <tr style=\"text-align: right;\">\n      <th></th>\n      <th>session.header_date</th>\n      <th>session.header_parliament.no</th>\n      <th>session.header_session.no</th>\n      <th>session.header_period.no</th>\n      <th>session.header_chamber</th>\n      <th>session.header_page.no</th>\n      <th>session.header_proof</th>\n      <th>chamber.xscript_para_class</th>\n      <th>chamber.xscript_para</th>\n      <th>chamber.xscript_business.start_day.start</th>\n      <th>...</th>\n      <th>chamber.xscript_debate_division_para_inline_font-weight</th>\n      <th>chamber.xscript_debate_division_para_inline</th>\n      <th>chamber.xscript_debate_division_para_inline_font-style</th>\n      <th>chamber.xscript_debate_continue_talk.start_talker_page.no</th>\n      <th>chamber.xscript_debate_continue_talk.start_talker_name.id</th>\n      <th>chamber.xscript_debate_continue_talk.start_talker_in.gov</th>\n      <th>chamber.xscript_debate_continue_talk.start_talker_first.speech</th>\n      <th>chamber.xscript_debate_continue_talk.start_talker_name_role</th>\n      <th>chamber.xscript_debate_continue_talk.start_talker_name</th>\n      <th>chamber.xscript_debate_continue_talk.start_para</th>\n    </tr>\n  </thead>\n  <tbody>\n    <tr>\n      <th>0</th>\n      <td>1901-06-12</td>\n      <td>1</td>\n      <td>1</td>\n      <td>0</td>\n      <td>REPS</td>\n      <td>946</td>\n      <td>0</td>\n      <td>NaN</td>\n      <td>NaN</td>\n      <td>NaN</td>\n      <td>...</td>\n      <td>NaN</td>\n      <td>NaN</td>\n      <td>NaN</td>\n      <td>NaN</td>\n      <td>NaN</td>\n      <td>NaN</td>\n      <td>NaN</td>\n      <td>NaN</td>\n      <td>NaN</td>\n      <td>NaN</td>\n    </tr>\n    <tr>\n      <th>1</th>\n      <td>NaN</td>\n      <td>NaN</td>\n      <td>NaN</td>\n      <td>NaN</td>\n      <td>NaN</td>\n      <td>NaN</td>\n      <td>NaN</td>\n      <td>block</td>\n      <td>House of Representatibes.</td>\n      <td>1901-06-12</td>\n      <td>...</td>\n      <td>bold</td>\n      <td>[Mr. McCAY, 1, 1]</td>\n      <td>[italic, italic]</td>\n      <td>1006</td>\n      <td>009LR</td>\n      <td>0</td>\n      <td>0</td>\n      <td>[metadata, display]</td>\n      <td>[BARTON, Edmund, Mr BARTON]</td>\n      <td>- If the House wishes to make this gentleman a...</td>\n    </tr>\n  </tbody>\n</table>\n<p>2 rows × 127 columns</p>\n</div>"
     },
     "metadata": {},
     "execution_count": 61
    }
   ],
   "source": [
    "df.head(15)"
   ]
  },
  {
   "cell_type": "code",
   "execution_count": null,
   "metadata": {},
   "outputs": [],
   "source": []
  }
 ]
}